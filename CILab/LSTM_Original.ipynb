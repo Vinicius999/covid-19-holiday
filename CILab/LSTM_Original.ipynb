{
 "cells": [
  {
   "cell_type": "markdown",
   "metadata": {
    "id": "6gBuVy-NEJQZ"
   },
   "source": [
    "# **Encaminhamentos**\n",
    "\n",
    "1. Reimplementar a técnica com os dados do autor:\n",
    "     - verificar se a plotagem é similar a que ele fez;\n",
    "     - dica: cada um implementar individualmente e se ajudar quando uma dúvida surgir;\n",
    "2. Verificar o problema relacionado ao treinamento com os dados de Covid-19.\n",
    "---\n",
    "\n",
    "\n",
    "## **Implementações de referência:** \n",
    "-  **[Link 1:](https://www.youtube.com/watch?v=GFSiL6zEZF0)**\n",
    "-  **[Link 2:](https://www.youtube.com/watch?v=PuZY9q-aKLw)**\n",
    "\n",
    "---\n",
    "\n"
   ]
  },
  {
   "cell_type": "markdown",
   "metadata": {
    "id": "IjfztpjoEn5T"
   },
   "source": [
    "# \\#1. Importando as bibliotecas"
   ]
  },
  {
   "cell_type": "code",
   "execution_count": 71,
   "metadata": {
    "id": "FD6gva6JHuY7"
   },
   "outputs": [],
   "source": [
    "from IPython import get_ipython\n",
    "get_ipython().magic('reset -sf')"
   ]
  },
  {
   "cell_type": "code",
   "execution_count": 72,
   "metadata": {},
   "outputs": [],
   "source": [
    "# !pip install pandas\n",
    "# !pip install numpy\n",
    "# !pip install datetime\n",
    "# !pip install matplotlib\n",
    "# !pip install sklearn\n",
    "# !pip install tensorflow\n",
    "# !pip install keras\n",
    "# !pip install pandas_datareader"
   ]
  },
  {
   "cell_type": "code",
   "execution_count": 73,
   "metadata": {
    "id": "exDUVQLpMWIB"
   },
   "outputs": [],
   "source": [
    "import numpy as np\n",
    "import matplotlib.pyplot as plt\n",
    "import pandas as pd\n",
    "import pandas_datareader as web\n",
    "import datetime as dt\n",
    "\n",
    "from sklearn.preprocessing import MinMaxScaler\n",
    "from keras.layers import Dense, Dropout, LSTM\n",
    "from keras.models import Sequential\n",
    "\n",
    "from sklearn.metrics import mean_squared_error, mean_absolute_error"
   ]
  },
  {
   "cell_type": "code",
   "execution_count": 74,
   "metadata": {
    "colab": {
     "base_uri": "https://localhost:8080/"
    },
    "id": "96NHfK1wMWLw",
    "outputId": "6b4c4290-7cf7-4c00-ee9a-a5c9b2436f25"
   },
   "outputs": [],
   "source": [
    "crypto_currency = 'BTC'\n",
    "against_currency = 'USD'\n",
    "\n",
    "start = dt.datetime(2016, 1, 1)\n",
    "end = dt.datetime(2021, 4 , 1)\n",
    "\n",
    "data = web.DataReader(f'{crypto_currency}-{against_currency}', 'yahoo', start, end)"
   ]
  },
  {
   "cell_type": "markdown",
   "metadata": {
    "id": "yKjOjxGSFYJi"
   },
   "source": [
    "# \\#2. Manipulando os dados"
   ]
  },
  {
   "cell_type": "code",
   "execution_count": 75,
   "metadata": {
    "id": "r8XF3uX0GVsn"
   },
   "outputs": [],
   "source": [
    "#prepare Data\n",
    "scaler = MinMaxScaler(feature_range=(0, 1))\n",
    "scaled_data = scaler.fit_transform(data['Close'].values.reshape(-1, 1))"
   ]
  },
  {
   "cell_type": "code",
   "execution_count": 76,
   "metadata": {
    "id": "rBlKyzGUM3gd"
   },
   "outputs": [],
   "source": [
    "prediction_days = 60\n",
    "future_days = 30\n",
    "\n",
    "x_train, y_train = [], []\n",
    "\n",
    "# for x in range(prediction_days, len(scaled_data)):\n",
    "#   x_train.append(scaled_data[x-prediction_days: x, 0])\n",
    "#   y_train.append(scaled_data[x, 0])\n",
    "\n",
    "for x in range(prediction_days, len(scaled_data) - future_days):\n",
    "  x_train.append(scaled_data[x-prediction_days: x, 0])\n",
    "  y_train.append(scaled_data[x, 0])"
   ]
  },
  {
   "cell_type": "code",
   "execution_count": 77,
   "metadata": {
    "id": "S5t0P8imM3oO"
   },
   "outputs": [],
   "source": [
    "x_train, y_train = np.array(x_train), np.array(y_train)\n",
    "x_train = np.reshape(x_train, (x_train.shape[0], x_train.shape[1], 1))"
   ]
  },
  {
   "cell_type": "markdown",
   "metadata": {
    "id": "rHWfDWFMmOkG"
   },
   "source": [
    "# \\#3. Craindo e treinando o modelo"
   ]
  },
  {
   "cell_type": "code",
   "execution_count": 78,
   "metadata": {
    "colab": {
     "base_uri": "https://localhost:8080/"
    },
    "id": "ELu4hgARt2qj",
    "outputId": "acfad5c0-0c72-4ecf-8c03-4be73e10603f"
   },
   "outputs": [
    {
     "name": "stdout",
     "output_type": "stream",
     "text": [
      "Epoch 1/25\n",
      "58/58 [==============================] - 9s 89ms/step - loss: 0.0036\n",
      "Epoch 2/25\n",
      "58/58 [==============================] - 5s 88ms/step - loss: 0.0013\n",
      "Epoch 3/25\n",
      "58/58 [==============================] - 5s 88ms/step - loss: 0.0013\n",
      "Epoch 4/25\n",
      "58/58 [==============================] - 5s 87ms/step - loss: 8.5267e-04\n",
      "Epoch 5/25\n",
      "58/58 [==============================] - 5s 88ms/step - loss: 9.7444e-04\n",
      "Epoch 6/25\n",
      "58/58 [==============================] - 5s 88ms/step - loss: 7.8924e-04\n",
      "Epoch 7/25\n",
      "58/58 [==============================] - 5s 88ms/step - loss: 0.0011\n",
      "Epoch 8/25\n",
      "58/58 [==============================] - 5s 88ms/step - loss: 7.1750e-04\n",
      "Epoch 9/25\n",
      "58/58 [==============================] - 5s 89ms/step - loss: 6.4803e-04\n",
      "Epoch 10/25\n",
      "58/58 [==============================] - 5s 89ms/step - loss: 7.7990e-04\n",
      "Epoch 11/25\n",
      "58/58 [==============================] - 5s 90ms/step - loss: 5.6889e-04\n",
      "Epoch 12/25\n",
      "58/58 [==============================] - 5s 89ms/step - loss: 6.5842e-04\n",
      "Epoch 13/25\n",
      "58/58 [==============================] - 5s 89ms/step - loss: 6.2781e-04\n",
      "Epoch 14/25\n",
      "58/58 [==============================] - 5s 89ms/step - loss: 5.7179e-04\n",
      "Epoch 15/25\n",
      "58/58 [==============================] - 5s 90ms/step - loss: 5.6516e-04\n",
      "Epoch 16/25\n",
      "58/58 [==============================] - 5s 88ms/step - loss: 5.4233e-04\n",
      "Epoch 17/25\n",
      "58/58 [==============================] - 5s 88ms/step - loss: 5.1127e-04\n",
      "Epoch 18/25\n",
      "58/58 [==============================] - 5s 88ms/step - loss: 4.9318e-04\n",
      "Epoch 19/25\n",
      "58/58 [==============================] - 5s 89ms/step - loss: 6.0562e-04\n",
      "Epoch 20/25\n",
      "58/58 [==============================] - 5s 90ms/step - loss: 5.1065e-04\n",
      "Epoch 21/25\n",
      "58/58 [==============================] - 5s 89ms/step - loss: 4.9854e-04\n",
      "Epoch 22/25\n",
      "58/58 [==============================] - 5s 90ms/step - loss: 8.7621e-04\n",
      "Epoch 23/25\n",
      "58/58 [==============================] - 5s 92ms/step - loss: 4.5923e-04\n",
      "Epoch 24/25\n",
      "58/58 [==============================] - 5s 90ms/step - loss: 4.1433e-04\n",
      "Epoch 25/25\n",
      "58/58 [==============================] - 5s 90ms/step - loss: 5.1661e-04\n"
     ]
    },
    {
     "data": {
      "text/plain": [
       "<keras.callbacks.History at 0x7faa5e2c2ca0>"
      ]
     },
     "execution_count": 78,
     "metadata": {},
     "output_type": "execute_result"
    }
   ],
   "source": [
    "model = Sequential()\n",
    "# model.add(LSTM(units=50, return_sequences=True, input_shape=(x_train.shape[1], 1)))\n",
    "# model.add(Dropout(0.2))\n",
    "# model.add(Dense(units=1))\n",
    "\n",
    "model.add(LSTM(units=50, return_sequences=True, input_shape=(x_train.shape[1], 1)))\n",
    "model.add(Dropout(0.2))\n",
    "model.add(LSTM(units=50, return_sequences=True))\n",
    "model.add(Dropout(0.2))\n",
    "model.add(LSTM(units=50))\n",
    "model.add(Dropout(0.2))\n",
    "model.add(Dense(units=1))\n",
    "\n",
    "model.compile(optimizer='adam', loss='mean_squared_error')\n",
    "model.fit(x_train, y_train, epochs=25, batch_size=32)\n",
    "\n",
    "#model.compile(optimizer='adam', loss='mse')\n",
    "#model.fit(x_train, y_train, epochs=25, batch_size=32)"
   ]
  },
  {
   "cell_type": "code",
   "execution_count": 81,
   "metadata": {
    "id": "lTd3Q-7XM3rX"
   },
   "outputs": [],
   "source": [
    "test_start = dt.datetime(2020, 1 , 1)\n",
    "test_end = dt.datetime(2021, 4 , 6)\n",
    "\n",
    "test_data = web.DataReader(f'{crypto_currency}-{against_currency}', 'yahoo', test_start, test_end)\n",
    "actual_prices = test_data['Close'].values\n",
    "\n",
    "total_dataset = pd.concat((data['Close'], test_data['Close']), axis=0)\n",
    "\n",
    "model_inputs = total_dataset[len(total_dataset) - len(test_data) - prediction_days:].values\n",
    "model_inputs = model_inputs.reshape(-1, 1)\n",
    "model_inputs = scaler.fit_transform(model_inputs)\n",
    "\n",
    "x_test = []\n",
    "\n",
    "for x in range(prediction_days, len(model_inputs)):\n",
    "  x_test.append(model_inputs[x-prediction_days:x, 0])\n",
    "\n",
    "x_test = np.array(x_test)\n",
    "x_test = np.reshape(x_test, (x_test.shape[0], x_test.shape[1], 1))\n",
    "\n",
    "prediction_prices = model.predict(x_test)\n",
    "prediction_prices = scaler.inverse_transform(prediction_prices)"
   ]
  },
  {
   "cell_type": "markdown",
   "metadata": {
    "id": "36jVUyP1qFdr"
   },
   "source": [
    "# \\#4. Plotando predição"
   ]
  },
  {
   "cell_type": "code",
   "execution_count": 82,
   "metadata": {
    "colab": {
     "base_uri": "https://localhost:8080/",
     "height": 295
    },
    "id": "ZiWZVgTjx026",
    "outputId": "5208d128-5b83-462f-992a-4294e690b167"
   },
   "outputs": [
    {
     "data": {
      "image/png": "[encoded data removed]",
      "text/plain": [
       "<Figure size 1280x640 with 1 Axes>"
      ]
     },
     "metadata": {},
     "output_type": "display_data"
    }
   ],
   "source": [
    "fig = plt.figure(figsize=(16, 8), dpi= 80, facecolor='w', edgecolor='k')\n",
    "\n",
    "plt.plot(actual_prices, color='black', label='Actual Prices')\n",
    "plt.plot(prediction_prices, color='green', label='Predicted Prices')\n",
    "plt.title(f'{crypto_currency} price prediction ')\n",
    "plt.xlabel('Time')\n",
    "plt.ylabel('Price')\n",
    "plt.legend(loc='upper left')\n",
    "plt.show()"
   ]
  },
  {
   "cell_type": "markdown",
   "metadata": {
    "id": "QDLgADkwp3OA"
   },
   "source": [
    "# \\#5. Prevendo novo dia"
   ]
  },
  {
   "cell_type": "code",
   "execution_count": 91,
   "metadata": {
    "colab": {
     "base_uri": "https://localhost:8080/",
     "height": 641
    },
    "id": "GkSZXwdSx09k",
    "outputId": "bf06c5a6-736f-4046-d2bc-9bfb828a645c"
   },
   "outputs": [
    {
     "name": "stdout",
     "output_type": "stream",
     "text": [
      "[[58406.902]]\n"
     ]
    }
   ],
   "source": [
    "real_data = [model_inputs[len(model_inputs) - prediction_days:len(model_inputs) + 1, 0]]\n",
    "#real_data = [model_inputs[len(model_inputs) + 1 - prediction_days:len(model_inputs), 0]]\n",
    "#real_data = [model_inputs[len(model_inputs) - prediction_days:len(model_inputs) + 1 , 0]]\n",
    "#real_data = [model_inputs[len(model_inputs) - prediction_days:len(model_inputs), 0]]\n",
    "\n",
    "real_data = np.array(real_data)\n",
    "real_data = np.reshape(real_data, (real_data.shape[0], real_data.shape[1], 1))\n",
    "\n",
    "prediction = model.predict(real_data)\n",
    "prediction = scaler.inverse_transform(prediction)\n",
    "print(prediction)"
   ]
  },
  {
   "cell_type": "markdown",
   "metadata": {},
   "source": [
    "## Teste"
   ]
  },
  {
   "cell_type": "code",
   "execution_count": null,
   "metadata": {
    "colab": {
     "base_uri": "https://localhost:8080/"
    },
    "id": "7o1UCBLClVyu",
    "outputId": "a746433e-068a-4c74-f19a-767207f102bb"
   },
   "outputs": [
    {
     "name": "stdout",
     "output_type": "stream",
     "text": [
      "tamanho1: 59\n",
      "tamanho2: 60\n",
      "tamanho3: 59\n",
      "tamanho4: 60\n"
     ]
    }
   ],
   "source": [
    "print(\"tamanho1:\", len(model_inputs[len(model_inputs) + 1 - prediction_days:len(model_inputs), 0]))\n",
    "print(\"tamanho2:\", len(model_inputs[len(model_inputs) - prediction_days:len(model_inputs), 0]))\n",
    "print(\"tamanho3:\", len(model_inputs[len(model_inputs) + 1 - prediction_days:len(model_inputs) + 1, 0]))\n",
    "print(\"tamanho4:\", len(model_inputs[len(model_inputs) - prediction_days:len(model_inputs) + 1, 0]))"
   ]
  }
 ],
 "metadata": {
  "colab": {
   "name": "LSTM 05 - New refereces - ATUAL.ipynb",
   "provenance": []
  },
  "kernelspec": {
   "display_name": "default:Python",
   "language": "python",
   "name": "conda-env-default-py"
  },
  "language_info": {
   "codemirror_mode": {
    "name": "ipython",
    "version": 3
   },
   "file_extension": ".py",
   "mimetype": "text/x-python",
   "name": "python",
   "nbconvert_exporter": "python",
   "pygments_lexer": "ipython3",
   "version": "3.9.7"
  }
 },
 "nbformat": 4,
 "nbformat_minor": 4
}
